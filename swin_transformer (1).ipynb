{
  "nbformat": 4,
  "nbformat_minor": 0,
  "metadata": {
    "colab": {
      "provenance": [],
      "gpuType": "T4"
    },
    "kernelspec": {
      "name": "python3",
      "display_name": "Python 3"
    },
    "language_info": {
      "name": "python"
    },
    "accelerator": "GPU",
    "widgets": {
      "application/vnd.jupyter.widget-state+json": {
        "2550b5f0351641e387b17cb908ababc8": {
          "model_module": "@jupyter-widgets/controls",
          "model_name": "HBoxModel",
          "model_module_version": "1.5.0",
          "state": {
            "_dom_classes": [],
            "_model_module": "@jupyter-widgets/controls",
            "_model_module_version": "1.5.0",
            "_model_name": "HBoxModel",
            "_view_count": null,
            "_view_module": "@jupyter-widgets/controls",
            "_view_module_version": "1.5.0",
            "_view_name": "HBoxView",
            "box_style": "",
            "children": [
              "IPY_MODEL_ccba5d4c280b49ac8e7dbd6ab4fa1ff8",
              "IPY_MODEL_3ee5d7293c8f4b3b9860d55a6ead2c8a",
              "IPY_MODEL_78d7497f5d3742ad944a3afa1b089ec7"
            ],
            "layout": "IPY_MODEL_3173b3ffc0c545e3afcb7d35d473abac"
          }
        },
        "ccba5d4c280b49ac8e7dbd6ab4fa1ff8": {
          "model_module": "@jupyter-widgets/controls",
          "model_name": "HTMLModel",
          "model_module_version": "1.5.0",
          "state": {
            "_dom_classes": [],
            "_model_module": "@jupyter-widgets/controls",
            "_model_module_version": "1.5.0",
            "_model_name": "HTMLModel",
            "_view_count": null,
            "_view_module": "@jupyter-widgets/controls",
            "_view_module_version": "1.5.0",
            "_view_name": "HTMLView",
            "description": "",
            "description_tooltip": null,
            "layout": "IPY_MODEL_5d7ee54ec14e4eb291d6b597597badd9",
            "placeholder": "​",
            "style": "IPY_MODEL_c90b8a270abe4e9290c7410c4e840d52",
            "value": "model.safetensors: 100%"
          }
        },
        "3ee5d7293c8f4b3b9860d55a6ead2c8a": {
          "model_module": "@jupyter-widgets/controls",
          "model_name": "FloatProgressModel",
          "model_module_version": "1.5.0",
          "state": {
            "_dom_classes": [],
            "_model_module": "@jupyter-widgets/controls",
            "_model_module_version": "1.5.0",
            "_model_name": "FloatProgressModel",
            "_view_count": null,
            "_view_module": "@jupyter-widgets/controls",
            "_view_module_version": "1.5.0",
            "_view_name": "ProgressView",
            "bar_style": "success",
            "description": "",
            "description_tooltip": null,
            "layout": "IPY_MODEL_67ed03bc049948fb9be6baad022290e9",
            "max": 352685652,
            "min": 0,
            "orientation": "horizontal",
            "style": "IPY_MODEL_fdb69387514f4fe18aa8188ff5317313",
            "value": 352685652
          }
        },
        "78d7497f5d3742ad944a3afa1b089ec7": {
          "model_module": "@jupyter-widgets/controls",
          "model_name": "HTMLModel",
          "model_module_version": "1.5.0",
          "state": {
            "_dom_classes": [],
            "_model_module": "@jupyter-widgets/controls",
            "_model_module_version": "1.5.0",
            "_model_name": "HTMLModel",
            "_view_count": null,
            "_view_module": "@jupyter-widgets/controls",
            "_view_module_version": "1.5.0",
            "_view_name": "HTMLView",
            "description": "",
            "description_tooltip": null,
            "layout": "IPY_MODEL_be07c5e01e384dcab48fea69a6e91c0a",
            "placeholder": "​",
            "style": "IPY_MODEL_73427b2e28f34e7e8ec3be39bdf305a7",
            "value": " 353M/353M [00:01&lt;00:00, 240MB/s]"
          }
        },
        "3173b3ffc0c545e3afcb7d35d473abac": {
          "model_module": "@jupyter-widgets/base",
          "model_name": "LayoutModel",
          "model_module_version": "1.2.0",
          "state": {
            "_model_module": "@jupyter-widgets/base",
            "_model_module_version": "1.2.0",
            "_model_name": "LayoutModel",
            "_view_count": null,
            "_view_module": "@jupyter-widgets/base",
            "_view_module_version": "1.2.0",
            "_view_name": "LayoutView",
            "align_content": null,
            "align_items": null,
            "align_self": null,
            "border": null,
            "bottom": null,
            "display": null,
            "flex": null,
            "flex_flow": null,
            "grid_area": null,
            "grid_auto_columns": null,
            "grid_auto_flow": null,
            "grid_auto_rows": null,
            "grid_column": null,
            "grid_gap": null,
            "grid_row": null,
            "grid_template_areas": null,
            "grid_template_columns": null,
            "grid_template_rows": null,
            "height": null,
            "justify_content": null,
            "justify_items": null,
            "left": null,
            "margin": null,
            "max_height": null,
            "max_width": null,
            "min_height": null,
            "min_width": null,
            "object_fit": null,
            "object_position": null,
            "order": null,
            "overflow": null,
            "overflow_x": null,
            "overflow_y": null,
            "padding": null,
            "right": null,
            "top": null,
            "visibility": null,
            "width": null
          }
        },
        "5d7ee54ec14e4eb291d6b597597badd9": {
          "model_module": "@jupyter-widgets/base",
          "model_name": "LayoutModel",
          "model_module_version": "1.2.0",
          "state": {
            "_model_module": "@jupyter-widgets/base",
            "_model_module_version": "1.2.0",
            "_model_name": "LayoutModel",
            "_view_count": null,
            "_view_module": "@jupyter-widgets/base",
            "_view_module_version": "1.2.0",
            "_view_name": "LayoutView",
            "align_content": null,
            "align_items": null,
            "align_self": null,
            "border": null,
            "bottom": null,
            "display": null,
            "flex": null,
            "flex_flow": null,
            "grid_area": null,
            "grid_auto_columns": null,
            "grid_auto_flow": null,
            "grid_auto_rows": null,
            "grid_column": null,
            "grid_gap": null,
            "grid_row": null,
            "grid_template_areas": null,
            "grid_template_columns": null,
            "grid_template_rows": null,
            "height": null,
            "justify_content": null,
            "justify_items": null,
            "left": null,
            "margin": null,
            "max_height": null,
            "max_width": null,
            "min_height": null,
            "min_width": null,
            "object_fit": null,
            "object_position": null,
            "order": null,
            "overflow": null,
            "overflow_x": null,
            "overflow_y": null,
            "padding": null,
            "right": null,
            "top": null,
            "visibility": null,
            "width": null
          }
        },
        "c90b8a270abe4e9290c7410c4e840d52": {
          "model_module": "@jupyter-widgets/controls",
          "model_name": "DescriptionStyleModel",
          "model_module_version": "1.5.0",
          "state": {
            "_model_module": "@jupyter-widgets/controls",
            "_model_module_version": "1.5.0",
            "_model_name": "DescriptionStyleModel",
            "_view_count": null,
            "_view_module": "@jupyter-widgets/base",
            "_view_module_version": "1.2.0",
            "_view_name": "StyleView",
            "description_width": ""
          }
        },
        "67ed03bc049948fb9be6baad022290e9": {
          "model_module": "@jupyter-widgets/base",
          "model_name": "LayoutModel",
          "model_module_version": "1.2.0",
          "state": {
            "_model_module": "@jupyter-widgets/base",
            "_model_module_version": "1.2.0",
            "_model_name": "LayoutModel",
            "_view_count": null,
            "_view_module": "@jupyter-widgets/base",
            "_view_module_version": "1.2.0",
            "_view_name": "LayoutView",
            "align_content": null,
            "align_items": null,
            "align_self": null,
            "border": null,
            "bottom": null,
            "display": null,
            "flex": null,
            "flex_flow": null,
            "grid_area": null,
            "grid_auto_columns": null,
            "grid_auto_flow": null,
            "grid_auto_rows": null,
            "grid_column": null,
            "grid_gap": null,
            "grid_row": null,
            "grid_template_areas": null,
            "grid_template_columns": null,
            "grid_template_rows": null,
            "height": null,
            "justify_content": null,
            "justify_items": null,
            "left": null,
            "margin": null,
            "max_height": null,
            "max_width": null,
            "min_height": null,
            "min_width": null,
            "object_fit": null,
            "object_position": null,
            "order": null,
            "overflow": null,
            "overflow_x": null,
            "overflow_y": null,
            "padding": null,
            "right": null,
            "top": null,
            "visibility": null,
            "width": null
          }
        },
        "fdb69387514f4fe18aa8188ff5317313": {
          "model_module": "@jupyter-widgets/controls",
          "model_name": "ProgressStyleModel",
          "model_module_version": "1.5.0",
          "state": {
            "_model_module": "@jupyter-widgets/controls",
            "_model_module_version": "1.5.0",
            "_model_name": "ProgressStyleModel",
            "_view_count": null,
            "_view_module": "@jupyter-widgets/base",
            "_view_module_version": "1.2.0",
            "_view_name": "StyleView",
            "bar_color": null,
            "description_width": ""
          }
        },
        "be07c5e01e384dcab48fea69a6e91c0a": {
          "model_module": "@jupyter-widgets/base",
          "model_name": "LayoutModel",
          "model_module_version": "1.2.0",
          "state": {
            "_model_module": "@jupyter-widgets/base",
            "_model_module_version": "1.2.0",
            "_model_name": "LayoutModel",
            "_view_count": null,
            "_view_module": "@jupyter-widgets/base",
            "_view_module_version": "1.2.0",
            "_view_name": "LayoutView",
            "align_content": null,
            "align_items": null,
            "align_self": null,
            "border": null,
            "bottom": null,
            "display": null,
            "flex": null,
            "flex_flow": null,
            "grid_area": null,
            "grid_auto_columns": null,
            "grid_auto_flow": null,
            "grid_auto_rows": null,
            "grid_column": null,
            "grid_gap": null,
            "grid_row": null,
            "grid_template_areas": null,
            "grid_template_columns": null,
            "grid_template_rows": null,
            "height": null,
            "justify_content": null,
            "justify_items": null,
            "left": null,
            "margin": null,
            "max_height": null,
            "max_width": null,
            "min_height": null,
            "min_width": null,
            "object_fit": null,
            "object_position": null,
            "order": null,
            "overflow": null,
            "overflow_x": null,
            "overflow_y": null,
            "padding": null,
            "right": null,
            "top": null,
            "visibility": null,
            "width": null
          }
        },
        "73427b2e28f34e7e8ec3be39bdf305a7": {
          "model_module": "@jupyter-widgets/controls",
          "model_name": "DescriptionStyleModel",
          "model_module_version": "1.5.0",
          "state": {
            "_model_module": "@jupyter-widgets/controls",
            "_model_module_version": "1.5.0",
            "_model_name": "DescriptionStyleModel",
            "_view_count": null,
            "_view_module": "@jupyter-widgets/base",
            "_view_module_version": "1.2.0",
            "_view_name": "StyleView",
            "description_width": ""
          }
        }
      }
    }
  },
  "cells": [
    {
      "cell_type": "code",
      "source": [
        "# Install required libraries\n",
        "!pip install timm\n",
        "!pip install torch torchvision\n"
      ],
      "metadata": {
        "colab": {
          "base_uri": "https://localhost:8080/"
        },
        "id": "fNuwRyItc-LU",
        "outputId": "c7ab5825-ef26-4dca-bbf4-967385811e55"
      },
      "execution_count": null,
      "outputs": [
        {
          "output_type": "stream",
          "name": "stdout",
          "text": [
            "Requirement already satisfied: timm in /usr/local/lib/python3.10/dist-packages (1.0.11)\n",
            "Requirement already satisfied: torch in /usr/local/lib/python3.10/dist-packages (from timm) (2.5.0+cu121)\n",
            "Requirement already satisfied: torchvision in /usr/local/lib/python3.10/dist-packages (from timm) (0.20.0+cu121)\n",
            "Requirement already satisfied: pyyaml in /usr/local/lib/python3.10/dist-packages (from timm) (6.0.2)\n",
            "Requirement already satisfied: huggingface_hub in /usr/local/lib/python3.10/dist-packages (from timm) (0.24.7)\n",
            "Requirement already satisfied: safetensors in /usr/local/lib/python3.10/dist-packages (from timm) (0.4.5)\n",
            "Requirement already satisfied: filelock in /usr/local/lib/python3.10/dist-packages (from huggingface_hub->timm) (3.16.1)\n",
            "Requirement already satisfied: fsspec>=2023.5.0 in /usr/local/lib/python3.10/dist-packages (from huggingface_hub->timm) (2024.10.0)\n",
            "Requirement already satisfied: packaging>=20.9 in /usr/local/lib/python3.10/dist-packages (from huggingface_hub->timm) (24.1)\n",
            "Requirement already satisfied: requests in /usr/local/lib/python3.10/dist-packages (from huggingface_hub->timm) (2.32.3)\n",
            "Requirement already satisfied: tqdm>=4.42.1 in /usr/local/lib/python3.10/dist-packages (from huggingface_hub->timm) (4.66.6)\n",
            "Requirement already satisfied: typing-extensions>=3.7.4.3 in /usr/local/lib/python3.10/dist-packages (from huggingface_hub->timm) (4.12.2)\n",
            "Requirement already satisfied: networkx in /usr/local/lib/python3.10/dist-packages (from torch->timm) (3.4.2)\n",
            "Requirement already satisfied: jinja2 in /usr/local/lib/python3.10/dist-packages (from torch->timm) (3.1.4)\n",
            "Requirement already satisfied: sympy==1.13.1 in /usr/local/lib/python3.10/dist-packages (from torch->timm) (1.13.1)\n",
            "Requirement already satisfied: mpmath<1.4,>=1.1.0 in /usr/local/lib/python3.10/dist-packages (from sympy==1.13.1->torch->timm) (1.3.0)\n",
            "Requirement already satisfied: numpy in /usr/local/lib/python3.10/dist-packages (from torchvision->timm) (1.26.4)\n",
            "Requirement already satisfied: pillow!=8.3.*,>=5.3.0 in /usr/local/lib/python3.10/dist-packages (from torchvision->timm) (10.4.0)\n",
            "Requirement already satisfied: MarkupSafe>=2.0 in /usr/local/lib/python3.10/dist-packages (from jinja2->torch->timm) (3.0.2)\n",
            "Requirement already satisfied: charset-normalizer<4,>=2 in /usr/local/lib/python3.10/dist-packages (from requests->huggingface_hub->timm) (3.4.0)\n",
            "Requirement already satisfied: idna<4,>=2.5 in /usr/local/lib/python3.10/dist-packages (from requests->huggingface_hub->timm) (3.10)\n",
            "Requirement already satisfied: urllib3<3,>=1.21.1 in /usr/local/lib/python3.10/dist-packages (from requests->huggingface_hub->timm) (2.2.3)\n",
            "Requirement already satisfied: certifi>=2017.4.17 in /usr/local/lib/python3.10/dist-packages (from requests->huggingface_hub->timm) (2024.8.30)\n",
            "Requirement already satisfied: torch in /usr/local/lib/python3.10/dist-packages (2.5.0+cu121)\n",
            "Requirement already satisfied: torchvision in /usr/local/lib/python3.10/dist-packages (0.20.0+cu121)\n",
            "Requirement already satisfied: filelock in /usr/local/lib/python3.10/dist-packages (from torch) (3.16.1)\n",
            "Requirement already satisfied: typing-extensions>=4.8.0 in /usr/local/lib/python3.10/dist-packages (from torch) (4.12.2)\n",
            "Requirement already satisfied: networkx in /usr/local/lib/python3.10/dist-packages (from torch) (3.4.2)\n",
            "Requirement already satisfied: jinja2 in /usr/local/lib/python3.10/dist-packages (from torch) (3.1.4)\n",
            "Requirement already satisfied: fsspec in /usr/local/lib/python3.10/dist-packages (from torch) (2024.10.0)\n",
            "Requirement already satisfied: sympy==1.13.1 in /usr/local/lib/python3.10/dist-packages (from torch) (1.13.1)\n",
            "Requirement already satisfied: mpmath<1.4,>=1.1.0 in /usr/local/lib/python3.10/dist-packages (from sympy==1.13.1->torch) (1.3.0)\n",
            "Requirement already satisfied: numpy in /usr/local/lib/python3.10/dist-packages (from torchvision) (1.26.4)\n",
            "Requirement already satisfied: pillow!=8.3.*,>=5.3.0 in /usr/local/lib/python3.10/dist-packages (from torchvision) (10.4.0)\n",
            "Requirement already satisfied: MarkupSafe>=2.0 in /usr/local/lib/python3.10/dist-packages (from jinja2->torch) (3.0.2)\n"
          ]
        }
      ]
    },
    {
      "cell_type": "code",
      "source": [
        "from google.colab import drive\n",
        "drive.mount('/content/drive')"
      ],
      "metadata": {
        "colab": {
          "base_uri": "https://localhost:8080/"
        },
        "id": "DIK_cNGt1Jb1",
        "outputId": "9ce3553d-53a5-4cbd-8fe9-56c9d7a3086d"
      },
      "execution_count": null,
      "outputs": [
        {
          "output_type": "stream",
          "name": "stdout",
          "text": [
            "Mounted at /content/drive\n"
          ]
        }
      ]
    },
    {
      "cell_type": "code",
      "source": [
        "import matplotlib.pyplot as plt\n",
        "import numpy as np\n",
        "from sklearn.metrics import accuracy_score, precision_score, recall_score, f1_score\n",
        "from torch.optim.lr_scheduler import StepLR"
      ],
      "metadata": {
        "id": "KHXEEIcCzjro"
      },
      "execution_count": null,
      "outputs": []
    },
    {
      "cell_type": "code",
      "source": [
        "import torch\n",
        "import torch.nn as nn\n",
        "import torch.optim as optim\n",
        "from torch.optim.lr_scheduler import CosineAnnealingLR\n",
        "from torch.utils.data import DataLoader\n",
        "from torchvision import datasets, transforms\n",
        "import timm\n",
        "import os\n",
        "from tqdm import tqdm\n",
        "\n",
        "# Set device to GPU if available\n",
        "device = torch.device(\"cuda\" if torch.cuda.is_available() else \"cpu\")\n",
        "print(f\"Using device: {device}\")\n"
      ],
      "metadata": {
        "colab": {
          "base_uri": "https://localhost:8080/"
        },
        "id": "YNNiOe40dLmJ",
        "outputId": "30b07a72-4be3-4c03-d28a-04c73de0107f"
      },
      "execution_count": null,
      "outputs": [
        {
          "output_type": "stream",
          "name": "stdout",
          "text": [
            "Using device: cuda\n"
          ]
        }
      ]
    },
    {
      "cell_type": "code",
      "source": [
        "from torchvision import datasets, transforms\n",
        "from torch.utils.data import DataLoader\n",
        "import torch\n",
        "\n",
        "# Dataset path\n",
        "dataset_path = \"/content/drive/MyDrive/images\"\n",
        "\n",
        "# Transformations for grayscale images\n",
        "transform = transforms.Compose([\n",
        "    transforms.Grayscale(num_output_channels=1),  # Ensure images are single-channel grayscale\n",
        "    transforms.Resize((224, 224)),  # Resize images to 224x224 for Swin Transformer\n",
        "    transforms.ToTensor(),\n",
        "    transforms.Normalize((0.5,), (0.5,))  # Normalization for grayscale images (mean and std for 1 channel)\n",
        "])\n",
        "\n",
        "# Load dataset using ImageFolder\n",
        "full_dataset = datasets.ImageFolder(root=dataset_path, transform=transform)\n",
        "\n",
        "# Split dataset into training and validation sets (80% train, 20% validation)\n",
        "train_size = int(0.8 * len(full_dataset))\n",
        "val_size = len(full_dataset) - train_size\n",
        "train_dataset, val_dataset = torch.utils.data.random_split(full_dataset, [train_size, val_size])\n",
        "\n",
        "train_loader = DataLoader(train_dataset, batch_size=32, shuffle=True, num_workers=2)\n",
        "val_loader = DataLoader(val_dataset, batch_size=32, shuffle=False, num_workers=2)\n",
        "\n",
        "# Print class names\n",
        "class_names = full_dataset.classes\n",
        "print(\"Classes:\", class_names)\n"
      ],
      "metadata": {
        "colab": {
          "base_uri": "https://localhost:8080/"
        },
        "id": "EPipbx4VdWrc",
        "outputId": "a66bbbf6-c789-4e38-bcea-1e6500c71efb"
      },
      "execution_count": null,
      "outputs": [
        {
          "output_type": "stream",
          "name": "stdout",
          "text": [
            "Classes: ['Cyst', 'Normal', 'Stone', 'Tumor']\n"
          ]
        }
      ]
    },
    {
      "cell_type": "code",
      "source": [
        "# Load a pre-trained Swin Transformer model and modify for 4-class classification\n",
        "import timm\n",
        "import torch.nn as nn\n",
        "import torch\n",
        "\n",
        "# Load a pre-trained Swin Transformer model\n",
        "model = timm.create_model('swin_base_patch4_window7_224', pretrained=True)\n",
        "\n",
        "# Modify the input layer to accept grayscale (1-channel) images\n",
        "# Replace 3 input channels with 1, keeping other parameters the same\n",
        "model.patch_embed.proj = nn.Conv2d(\n",
        "    in_channels=1,  # Change to 1 for grayscale images\n",
        "    out_channels=model.patch_embed.proj.out_channels,  # Keep the output channels the same\n",
        "    kernel_size=model.patch_embed.proj.kernel_size,\n",
        "    stride=model.patch_embed.proj.stride,\n",
        "    padding=model.patch_embed.proj.padding\n",
        ")\n",
        "\n",
        "# Adjust the output layer for the number of classes\n",
        "num_classes = len(class_names)  # Number of classes in your dataset\n",
        "model.head = nn.Linear(model.head.in_features, num_classes)\n",
        "\n",
        "# Move model to device\n",
        "device = torch.device(\"cuda\" if torch.cuda.is_available() else \"cpu\")\n",
        "model = model.to(device)\n"
      ],
      "metadata": {
        "id": "4vSa_8uqdhv3",
        "colab": {
          "base_uri": "https://localhost:8080/",
          "height": 173,
          "referenced_widgets": [
            "2550b5f0351641e387b17cb908ababc8",
            "ccba5d4c280b49ac8e7dbd6ab4fa1ff8",
            "3ee5d7293c8f4b3b9860d55a6ead2c8a",
            "78d7497f5d3742ad944a3afa1b089ec7",
            "3173b3ffc0c545e3afcb7d35d473abac",
            "5d7ee54ec14e4eb291d6b597597badd9",
            "c90b8a270abe4e9290c7410c4e840d52",
            "67ed03bc049948fb9be6baad022290e9",
            "fdb69387514f4fe18aa8188ff5317313",
            "be07c5e01e384dcab48fea69a6e91c0a",
            "73427b2e28f34e7e8ec3be39bdf305a7"
          ]
        },
        "outputId": "1c38185c-9723-4bf6-dcf5-2a2a00fb466f"
      },
      "execution_count": null,
      "outputs": [
        {
          "output_type": "stream",
          "name": "stderr",
          "text": [
            "/usr/local/lib/python3.10/dist-packages/huggingface_hub/utils/_auth.py:94: UserWarning: \n",
            "The secret `HF_TOKEN` does not exist in your Colab secrets.\n",
            "To authenticate with the Hugging Face Hub, create a token in your settings tab (https://huggingface.co/settings/tokens), set it as secret in your Google Colab and restart your session.\n",
            "You will be able to reuse this secret in all of your notebooks.\n",
            "Please note that authentication is recommended but still optional to access public models or datasets.\n",
            "  warnings.warn(\n"
          ]
        },
        {
          "output_type": "display_data",
          "data": {
            "text/plain": [
              "model.safetensors:   0%|          | 0.00/353M [00:00<?, ?B/s]"
            ],
            "application/vnd.jupyter.widget-view+json": {
              "version_major": 2,
              "version_minor": 0,
              "model_id": "2550b5f0351641e387b17cb908ababc8"
            }
          },
          "metadata": {}
        }
      ]
    },
    {
      "cell_type": "code",
      "source": [
        "# Loss function and optimizer\n",
        "criterion = nn.CrossEntropyLoss()\n",
        "optimizer = optim.AdamW(model.parameters(), lr=1e-4)\n",
        "scheduler = CosineAnnealingLR(optimizer, T_max=10)\n",
        "\n",
        "# Training function\n",
        "# Training function with adaptive output reshaping\n",
        "def train_one_epoch(model, loader, criterion, optimizer):\n",
        "    model.train()\n",
        "    running_loss = 0.0\n",
        "    correct = 0\n",
        "    total = 0\n",
        "    all_preds = []\n",
        "    all_labels = []\n",
        "    for inputs, labels in tqdm(loader):\n",
        "        inputs, labels = inputs.to(device), labels.to(device)\n",
        "\n",
        "        # Zero the parameter gradients\n",
        "        optimizer.zero_grad()\n",
        "\n",
        "        # Forward pass\n",
        "        outputs = model(inputs)\n",
        "\n",
        "        # Check if output shape is 4D (batch, num_classes, height, width) and adapt it\n",
        "        if outputs.dim() == 4:\n",
        "            outputs = outputs.mean([2, 3])  # Global average pooling to flatten spatial dimensions\n",
        "\n",
        "        # Ensure output is now [batch_size, num_classes]\n",
        "        loss = criterion(outputs, labels)\n",
        "        loss.backward()\n",
        "        optimizer.step()\n",
        "\n",
        "        # Statistics\n",
        "        running_loss += loss.item() * inputs.size(0)\n",
        "        _, predicted = torch.max(outputs, 1)\n",
        "        correct += (predicted == labels).sum().item()\n",
        "        total += labels.size(0)\n",
        "        # Store predictions and labels for metrics calculation\n",
        "        all_preds.extend(predicted.cpu().numpy())\n",
        "        all_labels.extend(labels.cpu().numpy())\n",
        "\n",
        "\n",
        "    epoch_loss = running_loss / total\n",
        "    epoch_acc = 100 * correct / total\n",
        "    # Calculate precision, recall, and F1-score\n",
        "    precision = precision_score(all_labels, all_preds, average=\"weighted\")\n",
        "    recall = recall_score(all_labels, all_preds, average=\"weighted\")\n",
        "    f1 = f1_score(all_labels, all_preds, average=\"weighted\")\n",
        "    return epoch_loss, epoch_acc, precision, recall, f1\n",
        "\n",
        "\n",
        "\n",
        "\n",
        "# Validation function\n",
        "def validate(model, loader, criterion):\n",
        "    model.eval()\n",
        "    running_loss = 0.0\n",
        "    correct = 0\n",
        "    total = 0\n",
        "    all_preds = []\n",
        "    all_labels = []\n",
        "\n",
        "    with torch.no_grad():\n",
        "        for inputs, labels in tqdm(loader):\n",
        "            inputs, labels = inputs.to(device), labels.to(device)\n",
        "\n",
        "            outputs = model(inputs)\n",
        "\n",
        "            # Adaptive output reshaping if necessary\n",
        "            if outputs.dim() == 4:\n",
        "                outputs = outputs.mean([2, 3])  # Flatten spatial dimensions\n",
        "\n",
        "            loss = criterion(outputs, labels)\n",
        "\n",
        "            running_loss += loss.item() * inputs.size(0)\n",
        "            _, predicted = torch.max(outputs, 1)\n",
        "            correct += (predicted == labels).sum().item()\n",
        "            total += labels.size(0)\n",
        "            # Store predictions and labels for metrics calculation\n",
        "            all_preds.extend(predicted.cpu().numpy())\n",
        "            all_labels.extend(labels.cpu().numpy())\n",
        "\n",
        "    epoch_loss = running_loss / total\n",
        "    epoch_acc = 100 * correct / total\n",
        "    # Calculate precision, recall, and F1-score\n",
        "    precision = precision_score(all_labels, all_preds, average=\"weighted\")\n",
        "    recall = recall_score(all_labels, all_preds, average=\"weighted\")\n",
        "    f1 = f1_score(all_labels, all_preds, average=\"weighted\")\n",
        "    return epoch_loss, epoch_acc,precision, recall, f1\n",
        "# Tracking metrics for visualization\n",
        "train_losses, train_accuracies = [], []\n",
        "val_losses, val_accuracies = [], []\n",
        "train_precisions, train_recalls, train_f1s = [], [], []\n",
        "val_precisions, val_recalls, val_f1s = [], [], []"
      ],
      "metadata": {
        "id": "cQfJh4Izdnz5"
      },
      "execution_count": null,
      "outputs": []
    },
    {
      "cell_type": "code",
      "source": [
        "# Training loop\n",
        "num_epochs = 10\n",
        "for epoch in range(num_epochs):\n",
        "    print(f\"Epoch {epoch+1}/{num_epochs}\")\n",
        "\n",
        "    train_loss, train_acc,train_precision, train_recall, train_f1 = train_one_epoch(model, train_loader, criterion, optimizer)\n",
        "    val_loss, val_acc, val_precision, val_recall, val_f1 = validate(model, val_loader, criterion)\n",
        "\n",
        "    scheduler.step()  # Update the learning rate\n",
        "\n",
        "    print(f\"Training Loss: {train_loss:.4f}, Accuracy: {train_acc*100:.2f}%, Precision: {train_precision:.2f}, Recall: {train_recall:.2f}, F1 Score: {train_f1:.2f}\")\n",
        "    print(f\"Validation Loss: {val_loss:.4f}, Accuracy: {val_acc*100:.2f}%, Precision: {val_precision:.2f}, Recall: {val_recall:.2f}, F1 Score: {val_f1:.2f}\\n\")\n",
        "    # Store metrics for visualization\n",
        "    train_losses.append(train_loss)\n",
        "    train_accuracies.append(train_acc)\n",
        "    train_precisions.append(train_precision)\n",
        "    train_recalls.append(train_recall)\n",
        "    train_f1s.append(train_f1)\n",
        "\n",
        "    val_losses.append(val_loss)\n",
        "    val_accuracies.append(val_acc)\n",
        "    val_precisions.append(val_precision)\n",
        "    val_recalls.append(val_recall)\n",
        "    val_f1s.append(val_f1)"
      ],
      "metadata": {
        "colab": {
          "base_uri": "https://localhost:8080/"
        },
        "id": "l6wytSAvd4GF",
        "outputId": "37e2037a-bfd0-460f-b2aa-81e72b3582cb"
      },
      "execution_count": null,
      "outputs": [
        {
          "output_type": "stream",
          "name": "stdout",
          "text": [
            "Epoch 1/10\n"
          ]
        },
        {
          "output_type": "stream",
          "name": "stderr",
          "text": [
            "100%|██████████| 312/312 [59:34<00:00, 11.46s/it]\n",
            "/usr/local/lib/python3.10/dist-packages/sklearn/metrics/_classification.py:1531: UndefinedMetricWarning: Recall is ill-defined and being set to 0.0 in labels with no true samples. Use `zero_division` parameter to control this behavior.\n",
            "  _warn_prf(average, modifier, f\"{metric.capitalize()} is\", len(result))\n",
            "100%|██████████| 78/78 [16:45<00:00, 12.89s/it]\n"
          ]
        },
        {
          "output_type": "stream",
          "name": "stdout",
          "text": [
            "Training Loss: 0.4327, Accuracy: 8422.06%, Precision: 0.84, Recall: 0.84, F1 Score: 0.84\n",
            "Validation Loss: 0.0721, Accuracy: 9759.04%, Precision: 0.98, Recall: 0.98, F1 Score: 0.98\n",
            "\n",
            "Epoch 2/10\n"
          ]
        },
        {
          "output_type": "stream",
          "name": "stderr",
          "text": [
            "100%|██████████| 312/312 [05:25<00:00,  1.04s/it]\n",
            "100%|██████████| 78/78 [00:30<00:00,  2.56it/s]\n"
          ]
        },
        {
          "output_type": "stream",
          "name": "stdout",
          "text": [
            "Training Loss: 0.0480, Accuracy: 9839.29%, Precision: 0.98, Recall: 0.98, F1 Score: 0.98\n",
            "Validation Loss: 0.0157, Accuracy: 9955.82%, Precision: 1.00, Recall: 1.00, F1 Score: 1.00\n",
            "\n",
            "Epoch 3/10\n"
          ]
        },
        {
          "output_type": "stream",
          "name": "stderr",
          "text": [
            "100%|██████████| 312/312 [05:27<00:00,  1.05s/it]\n",
            "100%|██████████| 78/78 [00:30<00:00,  2.58it/s]\n"
          ]
        },
        {
          "output_type": "stream",
          "name": "stdout",
          "text": [
            "Training Loss: 0.0219, Accuracy: 9932.70%, Precision: 0.99, Recall: 0.99, F1 Score: 0.99\n",
            "Validation Loss: 0.0557, Accuracy: 9779.12%, Precision: 0.98, Recall: 0.98, F1 Score: 0.98\n",
            "\n",
            "Epoch 4/10\n"
          ]
        },
        {
          "output_type": "stream",
          "name": "stderr",
          "text": [
            "100%|██████████| 312/312 [05:27<00:00,  1.05s/it]\n",
            "100%|██████████| 78/78 [00:29<00:00,  2.62it/s]\n"
          ]
        },
        {
          "output_type": "stream",
          "name": "stdout",
          "text": [
            "Training Loss: 0.0073, Accuracy: 9980.92%, Precision: 1.00, Recall: 1.00, F1 Score: 1.00\n",
            "Validation Loss: 0.0012, Accuracy: 9995.98%, Precision: 1.00, Recall: 1.00, F1 Score: 1.00\n",
            "\n",
            "Epoch 5/10\n"
          ]
        },
        {
          "output_type": "stream",
          "name": "stderr",
          "text": [
            "100%|██████████| 312/312 [05:27<00:00,  1.05s/it]\n",
            "100%|██████████| 78/78 [00:30<00:00,  2.60it/s]\n"
          ]
        },
        {
          "output_type": "stream",
          "name": "stdout",
          "text": [
            "Training Loss: 0.0009, Accuracy: 9999.00%, Precision: 1.00, Recall: 1.00, F1 Score: 1.00\n",
            "Validation Loss: 0.0004, Accuracy: 10000.00%, Precision: 1.00, Recall: 1.00, F1 Score: 1.00\n",
            "\n",
            "Epoch 6/10\n"
          ]
        },
        {
          "output_type": "stream",
          "name": "stderr",
          "text": [
            "100%|██████████| 312/312 [05:27<00:00,  1.05s/it]\n",
            "100%|██████████| 78/78 [00:29<00:00,  2.62it/s]\n"
          ]
        },
        {
          "output_type": "stream",
          "name": "stdout",
          "text": [
            "Training Loss: 0.0009, Accuracy: 9996.99%, Precision: 1.00, Recall: 1.00, F1 Score: 1.00\n",
            "Validation Loss: 0.0002, Accuracy: 10000.00%, Precision: 1.00, Recall: 1.00, F1 Score: 1.00\n",
            "\n",
            "Epoch 7/10\n"
          ]
        },
        {
          "output_type": "stream",
          "name": "stderr",
          "text": [
            "100%|██████████| 312/312 [05:27<00:00,  1.05s/it]\n",
            "100%|██████████| 78/78 [00:30<00:00,  2.55it/s]\n"
          ]
        },
        {
          "output_type": "stream",
          "name": "stdout",
          "text": [
            "Training Loss: 0.0010, Accuracy: 9995.98%, Precision: 1.00, Recall: 1.00, F1 Score: 1.00\n",
            "Validation Loss: 0.0043, Accuracy: 9979.92%, Precision: 1.00, Recall: 1.00, F1 Score: 1.00\n",
            "\n",
            "Epoch 8/10\n"
          ]
        },
        {
          "output_type": "stream",
          "name": "stderr",
          "text": [
            "100%|██████████| 312/312 [05:27<00:00,  1.05s/it]\n",
            "100%|██████████| 78/78 [00:29<00:00,  2.64it/s]\n"
          ]
        },
        {
          "output_type": "stream",
          "name": "stdout",
          "text": [
            "Training Loss: 0.0019, Accuracy: 9995.98%, Precision: 1.00, Recall: 1.00, F1 Score: 1.00\n",
            "Validation Loss: 0.0001, Accuracy: 10000.00%, Precision: 1.00, Recall: 1.00, F1 Score: 1.00\n",
            "\n",
            "Epoch 9/10\n"
          ]
        },
        {
          "output_type": "stream",
          "name": "stderr",
          "text": [
            "100%|██████████| 312/312 [05:28<00:00,  1.05s/it]\n",
            "100%|██████████| 78/78 [00:29<00:00,  2.63it/s]\n"
          ]
        },
        {
          "output_type": "stream",
          "name": "stdout",
          "text": [
            "Training Loss: 0.0006, Accuracy: 9999.00%, Precision: 1.00, Recall: 1.00, F1 Score: 1.00\n",
            "Validation Loss: 0.0000, Accuracy: 10000.00%, Precision: 1.00, Recall: 1.00, F1 Score: 1.00\n",
            "\n",
            "Epoch 10/10\n"
          ]
        },
        {
          "output_type": "stream",
          "name": "stderr",
          "text": [
            "100%|██████████| 312/312 [05:27<00:00,  1.05s/it]\n",
            "100%|██████████| 78/78 [00:29<00:00,  2.63it/s]"
          ]
        },
        {
          "output_type": "stream",
          "name": "stdout",
          "text": [
            "Training Loss: 0.0002, Accuracy: 10000.00%, Precision: 1.00, Recall: 1.00, F1 Score: 1.00\n",
            "Validation Loss: 0.0000, Accuracy: 10000.00%, Precision: 1.00, Recall: 1.00, F1 Score: 1.00\n",
            "\n"
          ]
        },
        {
          "output_type": "stream",
          "name": "stderr",
          "text": [
            "\n"
          ]
        }
      ]
    },
    {
      "cell_type": "markdown",
      "source": [
        "Epoch 1/10\n",
        "100%|██████████| 312/312 [59:34<00:00, 11.46s/it]\n",
        "/usr/local/lib/python3.10/dist-packages/sklearn/metrics/_classification.py:1531: UndefinedMetricWarning: Recall is ill-defined and being set to 0.0 in labels with no true samples. Use `zero_division` parameter to control this behavior.\n",
        "  _warn_prf(average, modifier, f\"{metric.capitalize()} is\", len(result))\n",
        "100%|██████████| 78/78 [16:45<00:00, 12.89s/it]\n",
        "Training Loss: 0.4327, Accuracy: 84.22%, Precision: 0.84, Recall: 0.84, F1 Score: 0.84\n",
        "Validation Loss: 0.0721, Accuracy: 97.59%, Precision: 0.98, Recall: 0.98, F1 Score: 0.98\n",
        "\n",
        "Epoch 2/10\n",
        "100%|██████████| 312/312 [05:25<00:00,  1.04s/it]\n",
        "100%|██████████| 78/78 [00:30<00:00,  2.56it/s]\n",
        "Training Loss: 0.0480, Accuracy: 98.39%, Precision: 0.98, Recall: 0.98, F1 Score: 0.98\n",
        "Validation Loss: 0.0157, Accuracy: 99.55%, Precision: 1.00, Recall: 1.00, F1 Score: 1.00\n",
        "\n",
        "Epoch 3/10\n",
        "100%|██████████| 312/312 [05:27<00:00,  1.05s/it]\n",
        "100%|██████████| 78/78 [00:30<00:00,  2.58it/s]\n",
        "Training Loss: 0.0219, Accuracy: 99.32%, Precision: 0.99, Recall: 0.99, F1 Score: 0.99\n",
        "Validation Loss: 0.0557, Accuracy: 97.79%, Precision: 0.98, Recall: 0.98, F1 Score: 0.98\n",
        "\n",
        "Epoch 4/10\n",
        "100%|██████████| 312/312 [05:27<00:00,  1.05s/it]\n",
        "100%|██████████| 78/78 [00:29<00:00,  2.62it/s]\n",
        "Training Loss: 0.0073, Accuracy: 99.80%, Precision: 1.00, Recall: 1.00, F1 Score: 1.00\n",
        "Validation Loss: 0.0012, Accuracy: 99.95%, Precision: 1.00, Recall: 1.00, F1 Score: 1.00\n",
        "\n",
        "Epoch 5/10\n",
        "100%|██████████| 312/312 [05:27<00:00,  1.05s/it]\n",
        "100%|██████████| 78/78 [00:30<00:00,  2.60it/s]\n",
        "Training Loss: 0.0009, Accuracy: 99.99%, Precision: 1.00, Recall: 1.00, F1 Score: 1.00\n",
        "Validation Loss: 0.0004, Accuracy: 100.00%, Precision: 1.00, Recall: 1.00, F1 Score: 1.00\n",
        "\n",
        "Epoch 6/10\n",
        "100%|██████████| 312/312 [05:27<00:00,  1.05s/it]\n",
        "100%|██████████| 78/78 [00:29<00:00,  2.62it/s]\n",
        "Training Loss: 0.0009, Accuracy: 99.96%, Precision: 1.00, Recall: 1.00, F1 Score: 1.00\n",
        "Validation Loss: 0.0002, Accuracy: 100.00%, Precision: 1.00, Recall: 1.00, F1 Score: 1.00\n",
        "\n",
        "Epoch 7/10\n",
        "100%|██████████| 312/312 [05:27<00:00,  1.05s/it]\n",
        "100%|██████████| 78/78 [00:30<00:00,  2.55it/s]\n",
        "Training Loss: 0.0010, Accuracy: 99.95%, Precision: 1.00, Recall: 1.00, F1 Score: 1.00\n",
        "Validation Loss: 0.0043, Accuracy: 99.79%, Precision: 1.00, Recall: 1.00, F1 Score: 1.00\n",
        "\n",
        "Epoch 8/10\n",
        "100%|██████████| 312/312 [05:27<00:00,  1.05s/it]\n",
        "100%|██████████| 78/78 [00:29<00:00,  2.64it/s]\n",
        "Training Loss: 0.0019, Accuracy: 99.95%, Precision: 1.00, Recall: 1.00, F1 Score: 1.00\n",
        "Validation Loss: 0.0001, Accuracy: 100.00%, Precision: 1.00, Recall: 1.00, F1 Score: 1.00\n",
        "\n",
        "Epoch 9/10\n",
        "100%|██████████| 312/312 [05:28<00:00,  1.05s/it]\n",
        "100%|██████████| 78/78 [00:29<00:00,  2.63it/s]\n",
        "Training Loss: 0.0006, Accuracy: 99.99%, Precision: 1.00, Recall: 1.00, F1 Score: 1.00\n",
        "Validation Loss: 0.0000, Accuracy: 100.00%, Precision: 1.00, Recall: 1.00, F1 Score: 1.00\n",
        "\n",
        "Epoch 10/10\n",
        "100%|██████████| 312/312 [05:27<00:00,  1.05s/it]\n",
        "100%|██████████| 78/78 [00:29<00:00,  2.63it/s]Training Loss: 0.0002, Accuracy: 100.00%, Precision: 1.00, Recall: 1.00, F1 Score: 1.00\n",
        "Validation Loss: 0.0000, Accuracy: 100.00%, Precision: 1.00, Recall: 1.00, F1 Score: 1.00"
      ],
      "metadata": {
        "id": "7QephCB-UKJC"
      }
    },
    {
      "cell_type": "code",
      "source": [
        "epochs = np.arange(1, num_epochs + 1)\n",
        "\n",
        "# Plot Loss\n",
        "plt.figure(figsize=(14, 8))\n",
        "plt.subplot(2, 2, 1)\n",
        "plt.plot(epochs, train_losses, label='Training Loss')\n",
        "plt.plot(epochs, val_losses, label='Validation Loss')\n",
        "plt.xlabel('Epoch')\n",
        "plt.ylabel('Loss')\n",
        "plt.title('Loss Over Epochs')\n",
        "plt.legend()\n",
        "\n",
        "# Plot Accuracy\n",
        "plt.subplot(2, 2, 2)\n",
        "plt.plot(epochs, train_accuracies, label='Training Accuracy')\n",
        "plt.plot(epochs, val_accuracies, label='Validation Accuracy')\n",
        "plt.xlabel('Epoch')\n",
        "plt.ylabel('Accuracy (%)')\n",
        "plt.title('Accuracy Over Epochs')\n",
        "plt.legend()\n",
        "\n",
        "# Plot Precision\n",
        "plt.subplot(2, 2, 3)\n",
        "plt.plot(epochs, train_precisions, label='Training Precision')\n",
        "plt.plot(epochs, val_precisions, label='Validation Precision')\n",
        "plt.xlabel('Epoch')\n",
        "plt.ylabel('Precision')\n",
        "plt.title('Precision Over Epochs')\n",
        "plt.legend()\n",
        "\n",
        "# Plot F1 Score\n",
        "plt.subplot(2, 2, 4)\n",
        "plt.plot(epochs, train_f1s, label='Training F1 Score')\n",
        "plt.plot(epochs, val_f1s, label='Validation F1 Score')\n",
        "plt.xlabel('Epoch')\n",
        "plt.ylabel('F1 Score')\n",
        "plt.title('F1 Score Over Epochs')\n",
        "plt.legend()\n",
        "\n",
        "plt.tight_layout()\n",
        "plt.show()"
      ],
      "metadata": {
        "colab": {
          "base_uri": "https://localhost:8080/",
          "height": 383
        },
        "id": "C-YBQnUtU7ib",
        "outputId": "c8dfd0c1-b098-4fcd-b21b-8ed5fd363679"
      },
      "execution_count": null,
      "outputs": [
        {
          "output_type": "display_data",
          "data": {
            "text/plain": [
              "<Figure size 1400x800 with 4 Axes>"
            ],
            "image/png": "[encoded data removed]"
          },
          "metadata": {}
        }
      ]
    },
    {
      "cell_type": "code",
      "source": [],
      "metadata": {
        "id": "kA54G2SnVpYq"
      },
      "execution_count": null,
      "outputs": []
    }
  ]
}